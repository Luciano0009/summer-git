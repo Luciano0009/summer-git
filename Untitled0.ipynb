{
  "nbformat": 4,
  "nbformat_minor": 0,
  "metadata": {
    "colab": {
      "provenance": [],
      "authorship_tag": "ABX9TyMA1ZzcZzL5BSfIjtgyTLkS",
      "include_colab_link": true
    },
    "kernelspec": {
      "name": "python3",
      "display_name": "Python 3"
    },
    "language_info": {
      "name": "python"
    }
  },
  "cells": [
    {
      "cell_type": "markdown",
      "metadata": {
        "id": "view-in-github",
        "colab_type": "text"
      },
      "source": [
        "<a href=\"https://colab.research.google.com/github/Luciano0009/summer-git/blob/main/Untitled0.ipynb\" target=\"_parent\"><img src=\"https://colab.research.google.com/assets/colab-badge.svg\" alt=\"Open In Colab\"/></a>"
      ]
    },
    {
      "cell_type": "code",
      "source": [
        "class housedesign:\n",
        "  color=\"yello\"\n",
        "\n",
        "h1=housedesign()\n",
        "print(h1.color)"
      ],
      "metadata": {
        "colab": {
          "base_uri": "https://localhost:8080/"
        },
        "id": "VLrBVwx2Y5Gn",
        "outputId": "ed824fca-8f68-4c53-c55b-444b6d0a2af9"
      },
      "execution_count": 9,
      "outputs": [
        {
          "output_type": "stream",
          "name": "stdout",
          "text": [
            "yello\n"
          ]
        }
      ]
    },
    {
      "cell_type": "code",
      "source": [
        "h2=housedesign()\n",
        "h2.color=\"white\"\n",
        "print(h2.color)"
      ],
      "metadata": {
        "colab": {
          "base_uri": "https://localhost:8080/"
        },
        "id": "hSSlcFupZswt",
        "outputId": "d476655e-6109-487e-b849-76c0bd0d8d5c"
      },
      "execution_count": 11,
      "outputs": [
        {
          "output_type": "stream",
          "name": "stdout",
          "text": [
            "white\n"
          ]
        }
      ]
    },
    {
      "cell_type": "code",
      "source": [
        "class HouseDesign:\n",
        "  def _init_(self):\n",
        "    print(\"Mistri sahab aa gaye\",self)\n",
        "h1=HouseDesign()"
      ],
      "metadata": {
        "id": "1qc-tyyubj2X"
      },
      "execution_count": 24,
      "outputs": []
    },
    {
      "cell_type": "code",
      "source": [
        "class HouseDesign:\n",
        "  def __init__(self,x):\n",
        "    self.color=x\n",
        "h1=HouseDesign(\"green\")\n",
        "print(\"h1:\",h1.color)\n",
        "h2=HouseDesign(\"pink\")\n",
        "print(\"h2:\",h2.color)"
      ],
      "metadata": {
        "colab": {
          "base_uri": "https://localhost:8080/"
        },
        "id": "LuptE3GoceNy",
        "outputId": "89b1762c-f0b2-4c06-9910-cb6b27f48be8"
      },
      "execution_count": 20,
      "outputs": [
        {
          "output_type": "stream",
          "name": "stdout",
          "text": [
            "h1: green\n",
            "h2: pink\n"
          ]
        }
      ]
    },
    {
      "cell_type": "code",
      "source": [
        "class parent:\n",
        "  amount=50000\n",
        "\n",
        "\n",
        "class child( parent ):\n",
        "    salary=10000\n",
        "\n",
        "c1=child()\n",
        "print(c1.amount)"
      ],
      "metadata": {
        "colab": {
          "base_uri": "https://localhost:8080/"
        },
        "id": "IRlztBN3gFju",
        "outputId": "9f2320d4-423a-4668-a433-25fb8cf560fb"
      },
      "execution_count": 45,
      "outputs": [
        {
          "output_type": "stream",
          "name": "stdout",
          "text": [
            "50000\n"
          ]
        }
      ]
    },
    {
      "cell_type": "code",
      "execution_count": null,
      "metadata": {
        "colab": {
          "base_uri": "https://localhost:8080/"
        },
        "id": "IA4ymVabTnBB",
        "outputId": "57f4fb5e-3eaf-4b68-93bc-4883e340e154"
      },
      "outputs": [
        {
          "output_type": "stream",
          "name": "stdout",
          "text": [
            "hello world\n",
            "hello lucky\n"
          ]
        }
      ],
      "source": [
        "print(\"hello world\")\n",
        "print(\"hello lucky\")\n"
      ]
    },
    {
      "cell_type": "code",
      "source": [
        "def func(x,y,z=100):\n",
        "  print(f\"x:{x},y:{y},z:{z}\")\n",
        "\n",
        "func(10,20,30)\n",
        "func(20,10,30)\n",
        "func(y=20,x=10,z=30)\n",
        "func()"
      ],
      "metadata": {
        "id": "oTV8vhQbLvlJ"
      },
      "execution_count": null,
      "outputs": []
    },
    {
      "cell_type": "code",
      "source": [
        "def func(x):\n",
        "  print(x+50)\n",
        "  return 100\n",
        "  out=func(10)\n",
        "  print(\"out\")"
      ],
      "metadata": {
        "id": "-w71Q7CzOHPq"
      },
      "execution_count": null,
      "outputs": []
    },
    {
      "cell_type": "code",
      "source": [
        "y=lambda num: num+5\n",
        "y(5)"
      ],
      "metadata": {
        "colab": {
          "base_uri": "https://localhost:8080/"
        },
        "id": "nW8waszEPeeH",
        "outputId": "79a4926a-aed4-446f-cb52-491414e0978a"
      },
      "execution_count": null,
      "outputs": [
        {
          "output_type": "execute_result",
          "data": {
            "text/plain": [
              "10"
            ]
          },
          "metadata": {},
          "execution_count": 4
        }
      ]
    },
    {
      "cell_type": "code",
      "source": [
        "list( map(len, [\"user\",\"hello\"]))"
      ],
      "metadata": {
        "colab": {
          "base_uri": "https://localhost:8080/"
        },
        "id": "ITz12EcgQYig",
        "outputId": "a3391748-2db4-4f0e-a573-50596de0aee0"
      },
      "execution_count": null,
      "outputs": [
        {
          "output_type": "execute_result",
          "data": {
            "text/plain": [
              "[4, 5]"
            ]
          },
          "metadata": {},
          "execution_count": 5
        }
      ]
    },
    {
      "cell_type": "code",
      "source": [
        "tuple( map(len, [\"hey\",\"hello\"]))"
      ],
      "metadata": {
        "colab": {
          "base_uri": "https://localhost:8080/"
        },
        "id": "S-Bu-seOSCGX",
        "outputId": "58cceb21-a724-4176-d9d7-0e0e299c6c78"
      },
      "execution_count": null,
      "outputs": [
        {
          "output_type": "execute_result",
          "data": {
            "text/plain": [
              "(3, 5)"
            ]
          },
          "metadata": {},
          "execution_count": 6
        }
      ]
    },
    {
      "cell_type": "code",
      "source": [
        "list( map( lambda x: x*x, [10,5,8,6]))"
      ],
      "metadata": {
        "colab": {
          "base_uri": "https://localhost:8080/"
        },
        "id": "ggmM1s6dSfJL",
        "outputId": "1de15f4b-fd49-4055-fdb3-ab256087dad0"
      },
      "execution_count": null,
      "outputs": [
        {
          "output_type": "execute_result",
          "data": {
            "text/plain": [
              "[100, 25, 64, 36]"
            ]
          },
          "metadata": {},
          "execution_count": 7
        }
      ]
    },
    {
      "cell_type": "code",
      "source": [
        "list(map(lambda x: x%2==0,[29,4,9,1]))"
      ],
      "metadata": {
        "colab": {
          "base_uri": "https://localhost:8080/"
        },
        "id": "hzRrEhcLTPB0",
        "outputId": "cf753db9-f0a0-41a2-de90-c5b4d6bce4fc"
      },
      "execution_count": null,
      "outputs": [
        {
          "output_type": "execute_result",
          "data": {
            "text/plain": [
              "[False, True, False, False]"
            ]
          },
          "metadata": {},
          "execution_count": 8
        }
      ]
    },
    {
      "cell_type": "code",
      "source": [
        "mylist=[10,20,30,51,43]\n",
        "max=mylist[0]\n",
        "for i in mylist:\n",
        "  if(i> max):\n",
        "    max=id"
      ],
      "metadata": {
        "id": "oy4lUNiV9vjb"
      },
      "execution_count": null,
      "outputs": []
    },
    {
      "cell_type": "code",
      "source": [
        "total=0\n",
        "newlist=[]\n",
        "for i in [1,20,30,34,51]:\n",
        " total+=i\n",
        "\n",
        " newlist.append(total)\n",
        " print(total, i, newlist)"
      ],
      "metadata": {
        "colab": {
          "base_uri": "https://localhost:8080/"
        },
        "id": "MxedDMZsB1UK",
        "outputId": "85741ff7-e696-45d2-e65f-c96e85929c0d"
      },
      "execution_count": null,
      "outputs": [
        {
          "output_type": "stream",
          "name": "stdout",
          "text": [
            "1 1 [1]\n",
            "21 20 [1, 21]\n",
            "51 30 [1, 21, 51]\n",
            "85 34 [1, 21, 51, 85]\n",
            "136 51 [1, 21, 51, 85, 136]\n"
          ]
        }
      ]
    },
    {
      "cell_type": "code",
      "source": [
        "for i in range(1,4):\n",
        "  print(\"----student\",i)\n",
        "  for j in range(1,i+1):\n",
        "    print(\"good morning\",j)"
      ],
      "metadata": {
        "colab": {
          "base_uri": "https://localhost:8080/"
        },
        "id": "i05MbjiJ-fyw",
        "outputId": "0ef7321f-afc3-44a2-e790-6ded0a2dd843"
      },
      "execution_count": null,
      "outputs": [
        {
          "output_type": "stream",
          "name": "stdout",
          "text": [
            "----student 1\n",
            "good morning 1\n",
            "----student 2\n",
            "good morning 1\n",
            "good morning 2\n",
            "----student 3\n",
            "good morning 1\n",
            "good morning 2\n",
            "good morning 3\n"
          ]
        }
      ]
    },
    {
      "cell_type": "code",
      "source": [
        "from selenium import webdriver\n",
        "from selenium.webdriver.common.by import By\n",
        "from selenium.webdriver.chrome.service import Service\n",
        "from selenium.webdriver.common.keys import Keys\n",
        "from selenium.webdriver.chrome.options import Options\n",
        "import time\n",
        "\n",
        "# Your Instagram credentials\n",
        "INSTAGRAM_USERNAME = \"your_username\"\n",
        "INSTAGRAM_PASSWORD = \"your_password\"\n",
        "\n",
        "# Path to your ChromeDriver\n",
        "CHROMEDRIVER_PATH = \"C:/chromedriver/chromedriver.exe\"  # ← change this path\n",
        "\n",
        "# Setup Chrome options\n",
        "chrome_options = Options()\n",
        "chrome_options.add_argument(\"--start-maximized\")\n",
        "\n",
        "# Start the browser\n",
        "service = Service(CHROMEDRIVER_PATH)\n",
        "driver = webdriver.Chrome(service=service, options=chrome_options)\n",
        "\n",
        "try:\n",
        "    # Open Instagram login page\n",
        "    driver.get(\"https://www.instagram.com/accounts/login/\")\n",
        "    time.sleep(5)  # Allow page to load completely\n",
        "\n",
        "    # Accept cookies if prompted\n",
        "    try:\n",
        "        cookies_button = driver.find_element(By.XPATH, \"//button[text()='Only allow essential cookies']\")\n",
        "        cookies_button.click()\n",
        "        time.sleep(2)\n",
        "    except:\n",
        "        pass  # Cookie popup may not always appear\n",
        "\n",
        "    # Enter username\n",
        "    username_input = driver.find_element(By.NAME, \"username\")\n",
        "    username_input.send_keys(INSTAGRAM_USERNAME)\n",
        "\n",
        "    # Enter password\n",
        "    password_input = driver.find_element(By.NAME, \"password\")\n",
        "    password_input.send_keys(INSTAGRAM_PASSWORD)\n",
        "\n",
        "    # Submit login form\n",
        "    password_input.send_keys(Keys.RETURN)\n",
        "\n",
        "    # Wait for login to process\n",
        "    time.sleep(10)\n",
        "\n",
        "    # Optionally, confirm login by checking presence of home icon\n",
        "    if \"instagram.com\" in driver.current_url:\n",
        "        print(\"Login successful or challenge page loaded.\")\n",
        "    else:\n",
        "        print(\"Login failed.\")\n",
        "\n",
        "finally:\n",
        "    # Optional: close the browser\n",
        "    driver.quit()\n"
      ],
      "metadata": {
        "colab": {
          "base_uri": "https://localhost:8080/"
        },
        "id": "BpjXQgd4GPBC",
        "outputId": "dd1ddcf7-54ee-49e8-f7ac-e3b40099eac8"
      },
      "execution_count": null,
      "outputs": [
        {
          "output_type": "stream",
          "name": "stdout",
          "text": [
            "Requirement already satisfied: selenium in /usr/local/lib/python3.11/dist-packages (4.32.0)\n",
            "Requirement already satisfied: urllib3<3,>=1.26 in /usr/local/lib/python3.11/dist-packages (from urllib3[socks]<3,>=1.26->selenium) (2.4.0)\n",
            "Requirement already satisfied: trio~=0.17 in /usr/local/lib/python3.11/dist-packages (from selenium) (0.30.0)\n",
            "Requirement already satisfied: trio-websocket~=0.9 in /usr/local/lib/python3.11/dist-packages (from selenium) (0.12.2)\n",
            "Requirement already satisfied: certifi>=2021.10.8 in /usr/local/lib/python3.11/dist-packages (from selenium) (2025.4.26)\n",
            "Requirement already satisfied: typing_extensions~=4.9 in /usr/local/lib/python3.11/dist-packages (from selenium) (4.13.2)\n",
            "Requirement already satisfied: websocket-client~=1.8 in /usr/local/lib/python3.11/dist-packages (from selenium) (1.8.0)\n",
            "Requirement already satisfied: attrs>=23.2.0 in /usr/local/lib/python3.11/dist-packages (from trio~=0.17->selenium) (25.3.0)\n",
            "Requirement already satisfied: sortedcontainers in /usr/local/lib/python3.11/dist-packages (from trio~=0.17->selenium) (2.4.0)\n",
            "Requirement already satisfied: idna in /usr/local/lib/python3.11/dist-packages (from trio~=0.17->selenium) (3.10)\n",
            "Requirement already satisfied: outcome in /usr/local/lib/python3.11/dist-packages (from trio~=0.17->selenium) (1.3.0.post0)\n",
            "Requirement already satisfied: sniffio>=1.3.0 in /usr/local/lib/python3.11/dist-packages (from trio~=0.17->selenium) (1.3.1)\n",
            "Requirement already satisfied: wsproto>=0.14 in /usr/local/lib/python3.11/dist-packages (from trio-websocket~=0.9->selenium) (1.2.0)\n",
            "Requirement already satisfied: pysocks!=1.5.7,<2.0,>=1.5.6 in /usr/local/lib/python3.11/dist-packages (from urllib3[socks]<3,>=1.26->selenium) (1.7.1)\n",
            "Requirement already satisfied: h11<1,>=0.9.0 in /usr/local/lib/python3.11/dist-packages (from wsproto>=0.14->trio-websocket~=0.9->selenium) (0.16.0)\n"
          ]
        }
      ]
    },
    {
      "cell_type": "code",
      "source": [
        "mylist=[1,20,30,\"abc\"]\n",
        "mylist[0]=\"tiger\""
      ],
      "metadata": {
        "id": "PdFf0eXH6HIl"
      },
      "execution_count": null,
      "outputs": []
    },
    {
      "cell_type": "code",
      "source": [
        "mylist=[1,20,30,51,43]\n",
        "for i in range(0, len(mylist)):\n",
        "  if(  mylist[i]%2==0  ):\n",
        "    print(\"even =>\", mylist[i])\n"
      ],
      "metadata": {
        "id": "Xy4xaGOv7byS"
      },
      "execution_count": null,
      "outputs": []
    },
    {
      "cell_type": "code",
      "source": [
        "s=\"SARAT\"\n",
        "start=0\n",
        "end=len(s)-1\n",
        "print(start,end,)"
      ],
      "metadata": {
        "colab": {
          "base_uri": "https://localhost:8080/",
          "height": 106
        },
        "id": "KwkvSy4wxMY1",
        "outputId": "b0ad84d9-9027-413d-8e60-1e2ff7165635"
      },
      "execution_count": null,
      "outputs": [
        {
          "output_type": "error",
          "ename": "SyntaxError",
          "evalue": "invalid syntax (<ipython-input-2-0947108c0e4d>, line 5)",
          "traceback": [
            "\u001b[0;36m  File \u001b[0;32m\"<ipython-input-2-0947108c0e4d>\"\u001b[0;36m, line \u001b[0;32m5\u001b[0m\n\u001b[0;31m    else:\u001b[0m\n\u001b[0m    ^\u001b[0m\n\u001b[0;31mSyntaxError\u001b[0m\u001b[0;31m:\u001b[0m invalid syntax\n"
          ]
        }
      ]
    },
    {
      "cell_type": "code",
      "source": [
        "year=2025\n",
        "company=\"regex software\"\n",
        "print(\"My year is\",year,\"comapny name is =>\",company)"
      ],
      "metadata": {
        "colab": {
          "base_uri": "https://localhost:8080/"
        },
        "id": "qLEpFY9-V6aq",
        "outputId": "3ab41d0b-6249-4d8e-b6c6-f2aa85fc9f21"
      },
      "execution_count": null,
      "outputs": [
        {
          "output_type": "stream",
          "name": "stdout",
          "text": [
            "My year is 2025 comapny name is => regex software\n"
          ]
        }
      ]
    },
    {
      "cell_type": "code",
      "source": [],
      "metadata": {
        "id": "9_YhxBxJWfhV"
      },
      "execution_count": null,
      "outputs": []
    },
    {
      "cell_type": "code",
      "source": [
        "year=2025\n",
        "company=\"regex sofware\"\n",
        "print(f\"My year is {year}company name is =>{company}\")"
      ],
      "metadata": {
        "colab": {
          "base_uri": "https://localhost:8080/"
        },
        "id": "2kvwadvtWfk3",
        "outputId": "a382e526-810d-4efc-ccae-8e3db02120e2"
      },
      "execution_count": null,
      "outputs": [
        {
          "output_type": "stream",
          "name": "stdout",
          "text": [
            "My year is 2025company name is =>regex sofware\n"
          ]
        }
      ]
    },
    {
      "cell_type": "code",
      "source": [
        "address=\"\"\"B35 Gopalpura tonk jaipur\n",
        "rajasthan 302018\"\"\"\n",
        "print(address)"
      ],
      "metadata": {
        "colab": {
          "base_uri": "https://localhost:8080/"
        },
        "id": "y7kXzygNXFxL",
        "outputId": "de7be3e0-4050-42e8-9f6c-03be380daba8"
      },
      "execution_count": null,
      "outputs": [
        {
          "output_type": "stream",
          "name": "stdout",
          "text": [
            "B35 Gopalpura tonk jaipur\n",
            "rajasthan 302018\n"
          ]
        }
      ]
    },
    {
      "cell_type": "code",
      "source": [
        " a=10\n",
        " if(a>5 or a>2):\n",
        "   print(\"hey\")\n",
        " elif(a===10):\n",
        " else:\n",
        "  print(\"condition is false\")\n",
        "\n"
      ],
      "metadata": {
        "colab": {
          "base_uri": "https://localhost:8080/"
        },
        "id": "Jo-8uOVDXwqi",
        "outputId": "e1cdeed5-914c-4f55-e183-e1c1e30781da"
      },
      "execution_count": null,
      "outputs": [
        {
          "output_type": "stream",
          "name": "stdout",
          "text": [
            "hey\n"
          ]
        }
      ]
    },
    {
      "cell_type": "code",
      "source": [
        "a=2\n",
        "b=3\n",
        "c=1\n",
        "if (a<b and a<c):\n",
        "  print(\"a is smallest\")\n",
        "elif(b<c and b<a):\n",
        " print(\"b is smallest\")\n",
        "elif(c<a and c<b):\n",
        " print(\"c is smallest\")"
      ],
      "metadata": {
        "colab": {
          "base_uri": "https://localhost:8080/"
        },
        "id": "OHRALgZ3cUxd",
        "outputId": "6f61ea0b-ef6f-4958-8bb3-5a23b76bd40e"
      },
      "execution_count": null,
      "outputs": [
        {
          "output_type": "stream",
          "name": "stdout",
          "text": [
            "c is smallest\n"
          ]
        }
      ]
    },
    {
      "cell_type": "code",
      "source": [
        "num = int(input(\"enter a number:\"))\n",
        "if num % 2 ==0:\n",
        "   print(\"even number\")\n",
        "else:\n",
        "  print(\"odd number\")"
      ],
      "metadata": {
        "colab": {
          "base_uri": "https://localhost:8080/"
        },
        "id": "CD86t7hnctNz",
        "outputId": "b876034f-b5ee-405e-b510-7da0d7768e74"
      },
      "execution_count": null,
      "outputs": [
        {
          "output_type": "stream",
          "name": "stdout",
          "text": [
            "enter a number:3\n",
            "odd number\n"
          ]
        }
      ]
    },
    {
      "cell_type": "code",
      "source": [
        "a= int(input(\"Enter first number:\"))\n",
        "b= int(input(\"Enter second number:\"))\n",
        "c= int(input(\"Enter third number:\"))\n",
        "largest= max(a,b,c)\n",
        "print(\"The largest number is:\",largest)\n"
      ],
      "metadata": {
        "colab": {
          "base_uri": "https://localhost:8080/"
        },
        "id": "q5Iq5GuImByv",
        "outputId": "beab4427-b52a-4daf-a75f-b6f7fa71b7fb"
      },
      "execution_count": null,
      "outputs": [
        {
          "output_type": "stream",
          "name": "stdout",
          "text": [
            "Enter first number:1\n",
            "Enter second number:7\n",
            "Enter third number:9\n",
            "The largest number is: 9\n"
          ]
        }
      ]
    },
    {
      "cell_type": "code",
      "source": [
        "a = 10\n",
        "b = 20\n",
        "\n",
        "print(\"Original values:\")\n",
        "print(\"a =\", a)\n",
        "print(\"b =\", b)\n",
        "\n",
        "temp = a\n",
        "a = b\n",
        "b = temp\n",
        "\n",
        "print(\"\\nSwapped values:\")\n",
        "print(\"a =\", a)\n",
        "print(\"b =\", b)\n"
      ],
      "metadata": {
        "colab": {
          "base_uri": "https://localhost:8080/"
        },
        "id": "qBMx74EP1_qA",
        "outputId": "b8b509c9-60ac-4123-96e7-ade48eafddd4"
      },
      "execution_count": null,
      "outputs": [
        {
          "output_type": "stream",
          "name": "stdout",
          "text": [
            "Original values:\n",
            "a = 10\n",
            "b = 20\n",
            "\n",
            "Swapped values:\n",
            "a = 20\n",
            "b = 10\n"
          ]
        }
      ]
    },
    {
      "cell_type": "code",
      "source": [
        "a = 15\n",
        "b = 20\n",
        "\n",
        "print(\"Original values:\")\n",
        "print(\"a =\", a)\n",
        "print(\"b =\", b)\n",
        "\n",
        "a = a + b\n",
        "b = a - b\n",
        "a = a - b\n",
        "\n",
        "print(\"\\nSwapped values:\")\n",
        "print(\"a =\", a)\n",
        "print(\"b =\", b)\n"
      ],
      "metadata": {
        "colab": {
          "base_uri": "https://localhost:8080/"
        },
        "id": "-XcWlStJ3Aik",
        "outputId": "39c5c350-9153-4691-cd35-e43caa240a46"
      },
      "execution_count": null,
      "outputs": [
        {
          "output_type": "stream",
          "name": "stdout",
          "text": [
            "Original values:\n",
            "a = 15\n",
            "b = 20\n",
            "\n",
            "Swapped values:\n",
            "a = 20\n",
            "b = 15\n"
          ]
        }
      ]
    },
    {
      "cell_type": "code",
      "source": [
        "count=0\n",
        "for i in range(20,55):\n",
        "  if(i%2==0 and i%6==0):\n",
        "    print(i,\"divided by 2 and 6\")\n"
      ],
      "metadata": {
        "colab": {
          "base_uri": "https://localhost:8080/"
        },
        "id": "JLLzIU7u31xZ",
        "outputId": "981e60b0-f77f-4d83-ad3b-3d6a820ad608"
      },
      "execution_count": null,
      "outputs": [
        {
          "output_type": "stream",
          "name": "stdout",
          "text": [
            "24 divided by 2 and 6\n",
            "30 divided by 2 and 6\n",
            "36 divided by 2 and 6\n",
            "42 divided by 2 and 6\n",
            "48 divided by 2 and 6\n",
            "54 divided by 2 and 6\n"
          ]
        }
      ]
    },
    {
      "cell_type": "code",
      "source": [
        "num=10\n",
        "for i in range(1,11):\n",
        "  if(num%i==0):\n",
        "    print(\"factor is:\",i)"
      ],
      "metadata": {
        "colab": {
          "base_uri": "https://localhost:8080/"
        },
        "id": "0xrrU7FhDSY4",
        "outputId": "6852c2b8-8d01-4a6c-854a-cabe27d334f4"
      },
      "execution_count": null,
      "outputs": [
        {
          "output_type": "stream",
          "name": "stdout",
          "text": [
            "factor is: 1\n",
            "factor is: 2\n",
            "factor is: 5\n",
            "factor is: 10\n"
          ]
        }
      ]
    },
    {
      "cell_type": "code",
      "source": [
        "num=29\n",
        "count=0\n",
        "for i in range(1,num+1):\n",
        "  if(num%i==0):\n",
        "    count+=1\n",
        "    if (count>2):\n",
        "      print(\"Not a prime\",num)\n",
        "  else:\n",
        "    print(\"prime number\",num)\n"
      ],
      "metadata": {
        "colab": {
          "base_uri": "https://localhost:8080/"
        },
        "id": "Qe2a3Cl_E_ws",
        "outputId": "f3dc7569-720b-4d8a-993c-015b79ceda53"
      },
      "execution_count": null,
      "outputs": [
        {
          "output_type": "stream",
          "name": "stdout",
          "text": [
            "prime number 29\n",
            "prime number 29\n",
            "prime number 29\n",
            "prime number 29\n",
            "prime number 29\n",
            "prime number 29\n",
            "prime number 29\n",
            "prime number 29\n",
            "prime number 29\n",
            "prime number 29\n",
            "prime number 29\n",
            "prime number 29\n",
            "prime number 29\n",
            "prime number 29\n",
            "prime number 29\n",
            "prime number 29\n",
            "prime number 29\n",
            "prime number 29\n",
            "prime number 29\n",
            "prime number 29\n",
            "prime number 29\n",
            "prime number 29\n",
            "prime number 29\n",
            "prime number 29\n",
            "prime number 29\n",
            "prime number 29\n",
            "prime number 29\n"
          ]
        }
      ]
    },
    {
      "cell_type": "code",
      "source": [
        "for i in range(1,9):\n",
        "  if(i==4):\n",
        "    continue\n",
        "    print(\"fvfiuvhfhewuihfhfwfufiupwfvbv\")\n",
        "    print(i)\n",
        "\n",
        "    print(\"----outside----\")\n"
      ],
      "metadata": {
        "id": "w38QClTSG3DM"
      },
      "execution_count": null,
      "outputs": []
    },
    {
      "cell_type": "code",
      "source": [
        "i=1\n",
        "while(i<10):\n",
        "  print(\"hello\",i)\n",
        "  i+=1"
      ],
      "metadata": {
        "colab": {
          "base_uri": "https://localhost:8080/"
        },
        "id": "7rS1o2eGITRL",
        "outputId": "c4ff50a6-58f5-4cb8-916e-88c5f2a91483"
      },
      "execution_count": null,
      "outputs": [
        {
          "output_type": "stream",
          "name": "stdout",
          "text": [
            "hello 1\n",
            "hello 2\n",
            "hello 3\n",
            "hello 4\n",
            "hello 5\n",
            "hello 6\n",
            "hello 7\n",
            "hello 8\n",
            "hello 9\n"
          ]
        }
      ]
    }
  ]
}